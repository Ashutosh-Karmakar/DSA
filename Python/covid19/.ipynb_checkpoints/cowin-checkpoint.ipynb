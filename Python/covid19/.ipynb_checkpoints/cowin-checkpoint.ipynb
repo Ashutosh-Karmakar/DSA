{
 "cells": [
  {
   "cell_type": "code",
   "execution_count": 259,
   "metadata": {},
   "outputs": [],
   "source": [
    "import requests\n",
    "from datetime import date\n",
    "header = {\"User-Agent\":'Mozilla/5.0 (Windows NT 10.0; Win64; x64) AppleWebKit/537.36 (KHTML, like Gecko) Chrome/90.0.4430.93 Safari/537.36'}"
   ]
  },
  {
   "cell_type": "code",
   "execution_count": 260,
   "metadata": {},
   "outputs": [],
   "source": [
    "url = \"https://cdn-api.co-vin.in/api/v2/appointment/sessions/public/findByDistrict?\"\n",
    "url2 = \"https://cdn-api.co-vin.in/api/v2/appointment/sessions/public/calendarByDistrict?\""
   ]
  },
  {
   "cell_type": "code",
   "execution_count": 261,
   "metadata": {},
   "outputs": [
    {
     "name": "stdout",
     "output_type": "stream",
     "text": [
      "Date & Time in IST :  14:05:2021\n"
     ]
    }
   ],
   "source": [
    "from datetime import datetime\n",
    "import pytz\n",
    "IST = pytz.timezone('Asia/Kolkata')\n",
    "datetime_ist = datetime.now(IST)\n",
    "print(\"Date & Time in IST : \",datetime_ist.strftime('%d:%m:%Y'))# %H:%M:%S %Z %z'))\n",
    "d1 = datetime_ist.strftime('%d:%m:%Y')"
   ]
  },
  {
   "cell_type": "code",
   "execution_count": 282,
   "metadata": {},
   "outputs": [],
   "source": [
    "vaccine = {'COVISHIELD':False,'COVAXIN':False}\n",
    "availableCapacity = 0\n",
    "districtCode = 483\n",
    "curDate = d1\n",
    "completeUrl = url2 + 'date='+str(curDate) + '&district_id=' + str(districtCode)"
   ]
  },
  {
   "cell_type": "code",
   "execution_count": 263,
   "metadata": {},
   "outputs": [
    {
     "name": "stdout",
     "output_type": "stream",
     "text": [
      "200\n"
     ]
    }
   ],
   "source": [
    "r = requests.get(completeUrl,headers = header)\n",
    "print(r.status_code)\n",
    "centers = r.json()['centers']"
   ]
  },
  {
   "cell_type": "code",
   "execution_count": 264,
   "metadata": {},
   "outputs": [],
   "source": [
    "dateList = []\n",
    "ageList = []\n",
    "database = {}\n",
    "for center in centers:\n",
    "    sessions = center['sessions']\n",
    "    for session in sessions:\n",
    "        if int(session['available_capacity']) != 0:\n",
    "            if(center['name'] not in database):\n",
    "                database[center['name']] = {'age':[session['min_age_limit']],'date':[session['date']]}\n",
    "            else:\n",
    "                database[center['name']]['age'].append(session['min_age_limit'])\n",
    "                database[center['name']]['date'].append(session['date'])"
   ]
  },
  {
   "cell_type": "code",
   "execution_count": 292,
   "metadata": {},
   "outputs": [],
   "source": [
    "dateList = []\n",
    "ageList = []\n",
    "database = {}\n",
    "for center in centers:\n",
    "    sessions = center['sessions']\n",
    "    for session in sessions:\n",
    "        if int(session['available_capacity']) != 0 :#and session['min_age_limit'] ==18:\n",
    "            if(session['date'] not in database):\n",
    "                database[session['date']] = {'age':[session['min_age_limit']],'name':[center['name']]}\n",
    "            else:\n",
    "                database[session['date']]['age'].append(session['min_age_limit'])\n",
    "                database[session['date']]['name'].append(center['name'])"
   ]
  },
  {
   "cell_type": "code",
   "execution_count": 305,
   "metadata": {},
   "outputs": [
    {
     "name": "stdout",
     "output_type": "stream",
     "text": [
      "hello\n",
      "hello\n",
      "hello\n",
      "hello\n",
      "hello\n",
      "hello\n",
      "hello\n"
     ]
    },
    {
     "data": {
      "text/plain": [
       "\"14-05-2021:['Chananwal CHC', 'Subcenter Kalal Majra', 'MMU Dhanaula', 'Subcentre Fatehgarh Channa', 'Subcenter Daraj', 'Subcenter Bhure', 'Subcenter Kattu', 'Subcenter Kattu', 'Subcenter Pharwahi', 'Subcentre Jaloor', 'E.P.I Room Tapa PHC', 'Subcentre Uppali', 'Subcentre Uppali', 'Subcenter Khudi Kalan', 'Shekha PHC', 'PHC Dhilwan', 'Subcentre Thullewal', 'Subcentre Bakhtgarh', 'Subcenter Sehna A', 'Subcentre Bhaini Mehraj', 'Subcentre Pakho Kalan', 'Subcentre Karamgarh', 'Subcentre Ugoke', 'Hamidi PHC', 'Subcentre Badra', 'Gehal PHC', 'Sehna PHC', 'Bhathlan PHC', 'Subcenter Sehjra', 'Bhadour CHC', 'Subcentre Mangewal', 'Subcenter Kotduna', 'Subcenter Ghunas', 'Subcentre Dhurkot', 'Subcenter Aspal Kalan', 'Subcenter Kaleke', 'Subcenter Handiaya', 'Subcentre Naiwala', 'Subcentre Rureke Kalan', 'Subcentre Hamidi', 'Subcentre Mehal Kalan', 'Subcentre Sanghera', 'Subcenter Ramgarh', 'Subcenter Badbar', 'Subcenter Badbar', 'Subcenter Dhaula', 'Subcenter Bhotna', 'Subcentre Thuliwal', 'Subcentre Rajia', 'Subcentre Dangarh']\\n15-05-2021:['Chananwal CHC', 'Subcenter Kalal Majra', 'MMU Dhanaula', 'Subcentre Fatehgarh Channa', 'Subcenter Bhure', 'Subcenter Kattu', 'Subcenter Pharwahi', 'Subcentre Jaloor', 'Subcentre Uppali', 'Subcenter Khudi Kalan', 'Subcentre Thullewal', 'Subcenter Sehna A', 'Subcentre Bhaini Mehraj', 'Subcentre Pakho Kalan', 'Subcentre Karamgarh', 'Hamidi PHC', 'Subcentre Badra', 'Gehal PHC', 'Bhathlan PHC', 'Subcenter Sehjra', 'Subcentre Mangewal', 'Subcenter Kotduna', 'Subcenter Ghunas', 'Subcentre Dhurkot', 'Subcenter Aspal Kalan', 'Subcenter Kaleke', 'Subcenter Handiaya', 'Subcentre Naiwala', 'Subcentre Rureke Kalan', 'Subcentre Hamidi', 'Subcentre Mehal Kalan', 'Subcentre Sanghera', 'Subcenter Badbar', 'Subcenter Dhaula', 'Subcentre Thuliwal', 'Subcentre Rajia', 'Subcentre Dangarh', 'Thikriwal PHC']\\n16-05-2021:['Subcenter Kalal Majra', 'MMU Dhanaula', 'Subcentre Fatehgarh Channa', 'Subcenter Bhure', 'Subcenter Kattu', 'Subcenter Pharwahi', 'Subcentre Jaloor', 'Subcentre Uppali', 'Subcenter Khudi Kalan', 'Subcentre Thullewal', 'Subcentre Bhaini Mehraj', 'Subcentre Pakho Kalan', 'Subcentre Karamgarh', 'Subcentre Badra', 'Gehal PHC', 'Subcentre Mangewal', 'Subcenter Kotduna', 'Subcenter Ghunas', 'Subcentre Dhurkot', 'Subcenter Aspal Kalan', 'Subcenter Kaleke', 'Subcenter Handiaya', 'Subcentre Naiwala', 'Subcentre Rureke Kalan', 'Subcentre Hamidi', 'Subcentre Mehal Kalan', 'Subcentre Sanghera', 'Subcenter Badbar', 'Subcenter Dhaula', 'Subcentre Thuliwal', 'Subcentre Rajia', 'Subcentre Dangarh', 'Tallewal PHC']\\n17-05-2021:['MMU Dhanaula', 'Subcentre Fatehgarh Channa', 'Subcenter Bhure', 'Subcenter Kattu', 'Subcenter Pharwahi', 'Subcentre Jaloor', 'E.P.I Room Tapa PHC', 'Subcenter Khudi Kalan', 'Subcentre Bhaini Mehraj', 'Subcentre Pakho Kalan', 'Subcentre Karamgarh', 'Subcentre Badra', 'Subcentre Mangewal', 'Subcenter Kotduna', 'Subcentre Dhurkot', 'Subcenter Aspal Kalan', 'Subcenter Kaleke', 'Subcenter Handiaya', 'Subcentre Naiwala', 'Subcentre Rureke Kalan', 'Subcentre Hamidi', 'Subcentre Sanghera', 'Subcenter Badbar', 'Subcenter Dhaula', 'Subcentre Thuliwal', 'Thikriwal PHC', 'Mehal Kalan CHC']\\n18-05-2021:['MMU Dhanaula', 'Subcentre Fatehgarh Channa', 'Subcenter Bhure', 'Subcenter Kattu', 'Subcenter Pharwahi', 'Subcentre Jaloor', 'E.P.I Room Tapa PHC', 'Subcentre Uppali', 'Subcenter Khudi Kalan', 'Subcentre Thullewal', 'Subcentre Bhaini Mehraj', 'Subcentre Pakho Kalan', 'Subcentre Karamgarh', 'Subcentre Badra', 'Subcentre Mangewal', 'Subcenter Kotduna', 'Subcentre Dhurkot', 'Subcenter Aspal Kalan', 'Subcenter Kaleke', 'Subcenter Handiaya', 'Subcentre Naiwala', 'Subcentre Rureke Kalan', 'Subcentre Hamidi', 'Subcentre Mehal Kalan', 'Subcentre Sanghera', 'Subcenter Badbar', 'Subcenter Dhaula', 'Subcentre Thuliwal', 'Subcentre Rajia', 'Subcentre Dangarh', 'E.P.I Room Tapa PHC 1']\\n19-05-2021:['MMU Dhanaula', 'Subcentre Fatehgarh Channa', 'Subcenter Bhure', 'Subcenter Kattu', 'Subcenter Pharwahi', 'Subcentre Jaloor', 'Subcentre Uppali', 'Subcenter Khudi Kalan', 'Subcentre Thullewal', 'Subcentre Bhaini Mehraj', 'Subcentre Pakho Kalan', 'Subcentre Karamgarh', 'Subcentre Badra', 'Bhadour CHC', 'Subcentre Mangewal', 'Subcenter Kotduna', 'Subcentre Dhurkot', 'Subcenter Aspal Kalan', 'Subcenter Kaleke', 'Subcenter Handiaya', 'Subcentre Naiwala', 'Subcentre Rureke Kalan', 'Subcentre Hamidi', 'Subcentre Mehal Kalan', 'Subcentre Sanghera', 'Subcenter Badbar', 'Subcenter Dhaula', 'Subcentre Thuliwal', 'Subcentre Rajia', 'Subcentre Dangarh', 'E.P.I Room Tapa PHC 1', 'Rureke Kalan PHC 1', 'Chananwal CHC 1', 'Dhanaula CHC 1']\\n20-05-2021:['MMU Dhanaula', 'Subcentre Sanghera', 'Mehal Kalan CHC', 'Rureke Kalan PHC 1', 'Chananwal CHC 1', 'Dhanaula CHC 1', 'SMC AFS Barnala(Defence Only)']\\n\""
      ]
     },
     "execution_count": 305,
     "metadata": {},
     "output_type": "execute_result"
    }
   ],
   "source": [
    "final = \"\"\n",
    "for i in database.keys():\n",
    "    fi = str(i) + ':' + str(database[i]['name'])\n",
    "    final = final + fi + '\\n'\n",
    "final"
   ]
  },
  {
   "cell_type": "code",
   "execution_count": 286,
   "metadata": {},
   "outputs": [
    {
     "data": {
      "text/plain": [
       "\"['Chananwal CHC', 'Subcenter Kalal Majra', 'MMU Dhanaula', 'Subcentre Fatehgarh Channa', 'Subcenter Daraj', 'Subcenter Bhure', 'Subcenter Kattu', 'Subcenter Kattu', 'Subcenter Pharwahi', 'Subcentre Jaloor', 'E.P.I Room Tapa PHC', 'Subcentre Uppali', 'Subcentre Uppali', 'Subcenter Khudi Kalan', 'Shekha PHC', 'PHC Dhilwan', 'Subcentre Thullewal', 'Subcentre Bakhtgarh', 'Subcenter Sehna A', 'Subcentre Bhaini Mehraj', 'Subcentre Pakho Kalan', 'Subcentre Karamgarh', 'Subcentre Ugoke', 'Hamidi PHC', 'Subcentre Badra', 'Gehal PHC', 'Sehna PHC', 'Bhathlan PHC', 'Subcenter Sehjra', 'Bhadour CHC', 'Subcentre Mangewal', 'Subcenter Kotduna', 'Subcenter Ghunas', 'Subcentre Dhurkot', 'Subcenter Aspal Kalan', 'Subcenter Kaleke', 'Subcenter Handiaya', 'Subcentre Naiwala', 'Subcentre Rureke Kalan', 'Subcentre Hamidi', 'Subcentre Mehal Kalan', 'Subcentre Sanghera', 'Subcenter Ramgarh', 'Subcenter Badbar', 'Subcenter Badbar', 'Subcenter Dhaula', 'Subcenter Bhotna', 'Subcentre Thuliwal', 'Subcentre Rajia', 'Subcentre Dangarh']\""
      ]
     },
     "execution_count": 286,
     "metadata": {},
     "output_type": "execute_result"
    }
   ],
   "source": [
    "d1 = d1.replace(':','-')\n",
    "str(database[d1]['name'])"
   ]
  },
  {
   "cell_type": "code",
   "execution_count": null,
   "metadata": {},
   "outputs": [],
   "source": []
  },
  {
   "cell_type": "code",
   "execution_count": null,
   "metadata": {},
   "outputs": [],
   "source": []
  },
  {
   "cell_type": "code",
   "execution_count": 302,
   "metadata": {},
   "outputs": [
    {
     "name": "stdout",
     "output_type": "stream",
     "text": [
      "a\n",
      "b\n"
     ]
    }
   ],
   "source": [
    "print(\"a\\nb\")"
   ]
  },
  {
   "cell_type": "code",
   "execution_count": null,
   "metadata": {},
   "outputs": [],
   "source": []
  },
  {
   "cell_type": "code",
   "execution_count": 256,
   "metadata": {},
   "outputs": [],
   "source": [
    "# import pytz\n",
    "# pytz.all_timezones"
   ]
  },
  {
   "cell_type": "code",
   "execution_count": 275,
   "metadata": {},
   "outputs": [
    {
     "name": "stdout",
     "output_type": "stream",
     "text": [
      "Date & Time in IST :  14:05:2021\n"
     ]
    }
   ],
   "source": [
    "from datetime import datetime\n",
    "import pytz\n",
    "IST = pytz.timezone('Asia/Kolkata')\n",
    "\n",
    "print(\"Date & Time in IST : \",\n",
    "\tdatetime_ist.strftime('%d:%m:%Y'))# %H:%M:%S %Z %z'))\n"
   ]
  },
  {
   "cell_type": "code",
   "execution_count": 270,
   "metadata": {},
   "outputs": [
    {
     "name": "stdout",
     "output_type": "stream",
     "text": [
      "2021-05-14_05-31-03\n"
     ]
    }
   ],
   "source": [
    "from datetime import datetime\n",
    "from pytz import timezone    \n",
    "\n",
    "south_africa = timezone('Asia/Kolkata')\n",
    "sa_time = datetime.now(south_africa)\n",
    "print(sa_time.strftime('%Y-%m-%d_%H-%M-%S'))"
   ]
  },
  {
   "cell_type": "code",
   "execution_count": 274,
   "metadata": {},
   "outputs": [],
   "source": [
    "datetime_ist = datetime.now(IST)"
   ]
  },
  {
   "cell_type": "code",
   "execution_count": null,
   "metadata": {},
   "outputs": [],
   "source": []
  },
  {
   "cell_type": "code",
   "execution_count": null,
   "metadata": {},
   "outputs": [],
   "source": []
  },
  {
   "cell_type": "code",
   "execution_count": null,
   "metadata": {},
   "outputs": [],
   "source": []
  },
  {
   "cell_type": "code",
   "execution_count": 208,
   "metadata": {},
   "outputs": [],
   "source": [
    "for center in centers:\n",
    "    sessions = center['sessions']\n",
    "    for session in sessions:\n",
    "        if int(session['available_capacity']) != 0:\n",
    "            dateList.append(session['date'])\n",
    "            ageList.append(session['min_age_limit'])\n",
    "\n",
    "    \n",
    "    "
   ]
  },
  {
   "cell_type": "code",
   "execution_count": null,
   "metadata": {},
   "outputs": [],
   "source": [
    "def findVaccine():\n",
    "    r = requests.get(completeUrl,headers = header)\n",
    "    if(r.status_code!= 200):\n",
    "        quit()\n",
    "    sessions = r.json()['sessions']\n",
    "    if(len(sessions) == 0):\n",
    "        print(\"No vaccine present now\")\n",
    "    else:\n",
    "        print(\"vaccine present\")\n",
    "    "
   ]
  },
  {
   "cell_type": "code",
   "execution_count": null,
   "metadata": {},
   "outputs": [],
   "source": [
    "findVaccine()"
   ]
  }
 ],
 "metadata": {
  "kernelspec": {
   "display_name": "Python 3",
   "language": "python",
   "name": "python3"
  },
  "language_info": {
   "codemirror_mode": {
    "name": "ipython",
    "version": 3
   },
   "file_extension": ".py",
   "mimetype": "text/x-python",
   "name": "python",
   "nbconvert_exporter": "python",
   "pygments_lexer": "ipython3",
   "version": "3.7.3"
  }
 },
 "nbformat": 4,
 "nbformat_minor": 2
}
